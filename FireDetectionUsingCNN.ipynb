{
 "cells": [
  {
   "cell_type": "code",
   "execution_count": 1,
   "metadata": {},
   "outputs": [
    {
     "name": "stderr",
     "output_type": "stream",
     "text": [
      "Using TensorFlow backend.\n"
     ]
    }
   ],
   "source": [
    "import cv2\n",
    "import numpy as np\n",
    "import os\n",
    "import h5py\n",
    "import time\n",
    "from keras.models import Sequential\n",
    "from keras.utils import np_utils\n",
    "from keras.layers import Dense, Dropout, Flatten, Conv2D, MaxPooling2D, GlobalAveragePooling2D\n",
    "from keras.optimizers import Adam\n",
    "from keras.models import Model\n",
    "from keras import applications\n",
    "import itertools\n",
    "import matplotlib.pyplot as plt\n",
    "%matplotlib inline\n",
    "from pathlib import Path\n",
    "from sklearn.metrics import accuracy_score\n",
    "from sklearn.metrics import classification_report\n",
    "from sklearn.metrics import confusion_matrix"
   ]
  },
  {
   "cell_type": "code",
   "execution_count": 2,
   "metadata": {},
   "outputs": [],
   "source": [
    "train_data_dir = 'input/train'\n",
    "test_data_dir = 'input/test'"
   ]
  },
  {
   "cell_type": "code",
   "execution_count": 3,
   "metadata": {},
   "outputs": [
    {
     "name": "stdout",
     "output_type": "stream",
     "text": [
      "['neg', 'pos']\n"
     ]
    }
   ],
   "source": [
    "class_labels = os.listdir(test_data_dir)\n",
    "print(class_labels)"
   ]
  },
  {
   "cell_type": "code",
   "execution_count": 4,
   "metadata": {},
   "outputs": [
    {
     "name": "stdout",
     "output_type": "stream",
     "text": [
      "test\n",
      "neg 1187\n",
      "pos 2430\n",
      "test ----- 3617\n",
      "train\n",
      "neg 3894\n",
      "pos 2630\n",
      "train ----- 6524\n"
     ]
    }
   ],
   "source": [
    "for wdir in os.listdir('input'):\n",
    "    print(wdir)\n",
    "    wdir_total = 0\n",
    "    for label in class_labels:\n",
    "        total = len(os.listdir(os.path.join('input', wdir, label)))\n",
    "        print(label, total)\n",
    "        wdir_total +=total\n",
    "    print(wdir,'-----',wdir_total)"
   ]
  },
  {
   "cell_type": "code",
   "execution_count": 5,
   "metadata": {},
   "outputs": [],
   "source": [
    "nb_train_samples =6524\n",
    "nb_test_samples = 3617\n",
    "num_classes = 2\n",
    "img_rows=64 \n",
    "img_cols= 64\n",
    "channel = 3"
   ]
  },
  {
   "cell_type": "code",
   "execution_count": 6,
   "metadata": {},
   "outputs": [],
   "source": [
    "def load_training_data():\n",
    "    labels = os.listdir(train_data_dir)\n",
    "    print(labels)\n",
    "    total = len(labels)\n",
    "    \n",
    "    X_train = np.ndarray((nb_train_samples, img_rows, img_cols, 3), dtype = np.uint8)\n",
    "    Y_train = np.zeros((nb_train_samples,), dtype = np.uint8)\n",
    "    \n",
    "    i = 0\n",
    "    print('-'*30)\n",
    "    print('Creating training images...')\n",
    "    print('-'*30)\n",
    "    \n",
    "    j = 0\n",
    "    for label in labels:\n",
    "        image_names_train = os.listdir(os.path.join(train_data_dir, label))\n",
    "        total = len(image_names_train)\n",
    "        print(label, total)\n",
    "        for image_name in image_names_train:\n",
    "            img = cv2.imread(os.path.join(train_data_dir, label, image_name), 1)\n",
    "            img = np.array(cv2.resize(img, (img_rows,img_cols)))\n",
    "            X_train[i] = img\n",
    "            Y_train[i] = j\n",
    "\n",
    "            if i % 800 == 0:\n",
    "                print('Done: {0}/{1} images'.format(i, total))\n",
    "            i += 1\n",
    "        j += 1    \n",
    "    print(str(i) +\"-------\"+ str(j))                \n",
    "    print('Loading done.')\n",
    "    \n",
    "    print('Transform targets to keras compatible format.')\n",
    "    Y_train = np_utils.to_categorical(Y_train[:nb_train_samples], num_classes)\n",
    "\n",
    "    np.save('dataset/imgs_train.npy', X_train, Y_train)\n",
    "    return X_train, Y_train"
   ]
  },
  {
   "cell_type": "code",
   "execution_count": 7,
   "metadata": {},
   "outputs": [],
   "source": [
    "def load_validation_data():\n",
    "    labels = os.listdir(test_data_dir)\n",
    "    \n",
    "\n",
    "    X_test = np.ndarray((nb_test_samples, img_rows, img_cols, 3), dtype=np.uint8)\n",
    "    Y_test = np.zeros((nb_test_samples,), dtype='uint8')\n",
    "\n",
    "    i = 0\n",
    "    print('-'*30)\n",
    "    print('Creating validation images...')\n",
    "    print('-'*30)\n",
    "    j = 0\n",
    "    for label in labels:\n",
    "        image_names_test = os.listdir(os.path.join(test_data_dir, label))\n",
    "        total = len(image_names_test)\n",
    "        print(label, total)\n",
    "        for image_name in image_names_test:\n",
    "            img = cv2.imread(os.path.join(test_data_dir, label, image_name), 1)\n",
    "\n",
    "            img = np.array(cv2.resize(img, (img_rows,img_cols)))\n",
    "\n",
    "            X_test[i] = img\n",
    "            Y_test[i] = j\n",
    "\n",
    "            if i % 200 == 0:\n",
    "                print('Done: {0}/{1} images'.format(i, total))\n",
    "            i += 1\n",
    "        j += 1\n",
    "    print(i)            \n",
    "    print('Loading done.')\n",
    "    \n",
    "    print('Transform targets to keras compatible format.');\n",
    "    Y_test = np_utils.to_categorical(Y_test[:nb_test_samples], num_classes)\n",
    "\n",
    "    np.save('dataset/imgs_test.npy', X_test, Y_test)\n",
    "    \n",
    "    return X_test, Y_test"
   ]
  },
  {
   "cell_type": "code",
   "execution_count": 8,
   "metadata": {},
   "outputs": [
    {
     "name": "stdout",
     "output_type": "stream",
     "text": [
      "['neg', 'pos']\n",
      "------------------------------\n",
      "Creating training images...\n",
      "------------------------------\n",
      "neg 3894\n",
      "Done: 0/3894 images\n",
      "Done: 800/3894 images\n",
      "Done: 1600/3894 images\n",
      "Done: 2400/3894 images\n",
      "Done: 3200/3894 images\n",
      "pos 2630\n",
      "Done: 4000/2630 images\n",
      "Done: 4800/2630 images\n",
      "Done: 5600/2630 images\n",
      "Done: 6400/2630 images\n",
      "6524-------2\n",
      "Loading done.\n",
      "Transform targets to keras compatible format.\n",
      "------------------------------\n",
      "Creating validation images...\n",
      "------------------------------\n",
      "neg 1187\n",
      "Done: 0/1187 images\n",
      "Done: 200/1187 images\n",
      "Done: 400/1187 images\n",
      "Done: 600/1187 images\n",
      "Done: 800/1187 images\n",
      "Done: 1000/1187 images\n",
      "pos 2430\n",
      "Done: 1200/2430 images\n",
      "Done: 1400/2430 images\n",
      "Done: 1600/2430 images\n",
      "Done: 1800/2430 images\n",
      "Done: 2000/2430 images\n",
      "Done: 2200/2430 images\n",
      "Done: 2400/2430 images\n",
      "Done: 2600/2430 images\n",
      "Done: 2800/2430 images\n",
      "Done: 3000/2430 images\n",
      "Done: 3200/2430 images\n",
      "Done: 3400/2430 images\n",
      "Done: 3600/2430 images\n",
      "3617\n",
      "Loading done.\n",
      "Transform targets to keras compatible format.\n"
     ]
    }
   ],
   "source": [
    "#load data for training\n",
    "x_train, y_train = load_training_data()\n",
    "x_test, y_test = load_validation_data()"
   ]
  },
  {
   "cell_type": "code",
   "execution_count": 9,
   "metadata": {},
   "outputs": [
    {
     "name": "stdout",
     "output_type": "stream",
     "text": [
      "(6524, 64, 64, 3) (6524, 2) (3617, 64, 64, 3) (3617, 2)\n"
     ]
    }
   ],
   "source": [
    "#print the shape of the data\n",
    "print(x_train.shape, y_train.shape, x_test.shape, y_test.shape)"
   ]
  },
  {
   "cell_type": "code",
   "execution_count": 10,
   "metadata": {},
   "outputs": [
    {
     "name": "stdout",
     "output_type": "stream",
     "text": [
      "[17 16 18]\n"
     ]
    }
   ],
   "source": [
    "# R G B\n",
    "print(x_train[0][0][0])"
   ]
  },
  {
   "cell_type": "code",
   "execution_count": 11,
   "metadata": {},
   "outputs": [
    {
     "name": "stdout",
     "output_type": "stream",
     "text": [
      "[1. 0.]\n"
     ]
    }
   ],
   "source": [
    "print(y_train[0])"
   ]
  },
  {
   "cell_type": "code",
   "execution_count": 12,
   "metadata": {},
   "outputs": [],
   "source": [
    "# normalize data\n",
    "x_train = x_train.astype('float32')\n",
    "x_test = x_test.astype('float32')\n",
    "\n",
    "x_train /= 127.5\n",
    "x_test /= 127.5"
   ]
  },
  {
   "cell_type": "code",
   "execution_count": 13,
   "metadata": {},
   "outputs": [
    {
     "name": "stdout",
     "output_type": "stream",
     "text": [
      "[[0.13333334 0.1254902  0.14117648]\n",
      " [0.1254902  0.10980392 0.10980392]\n",
      " [0.15686275 0.14901961 0.16470589]\n",
      " [0.6666667  0.69803923 0.78431374]\n",
      " [0.6745098  0.7294118  0.84705883]\n",
      " [0.6901961  0.7607843  0.87058824]\n",
      " [0.7137255  0.78431374 0.89411765]\n",
      " [0.83137256 0.89411765 1.027451  ]\n",
      " [0.49411765 0.5647059  0.6745098 ]\n",
      " [0.80784315 0.8784314  0.9882353 ]\n",
      " [0.8784314  0.9490196  1.0588236 ]\n",
      " [0.9882353  1.0509804  1.2       ]\n",
      " [1.1058824  1.2156863  1.3568628 ]\n",
      " [1.0196079  1.1137255  1.254902  ]\n",
      " [0.9647059  1.0509804  1.2078432 ]\n",
      " [0.85490197 0.91764706 1.027451  ]\n",
      " [0.9098039  0.95686275 1.0431373 ]\n",
      " [0.3764706  0.42352942 0.47843137]\n",
      " [0.23529412 0.24313726 0.27450982]\n",
      " [0.2509804  0.2509804  0.2509804 ]\n",
      " [0.25882354 0.25882354 0.3137255 ]\n",
      " [0.29803923 0.26666668 0.3137255 ]\n",
      " [0.30588236 0.2901961  0.3372549 ]\n",
      " [0.32156864 0.32156864 0.36862746]\n",
      " [0.36078432 0.3529412  0.38431373]\n",
      " [0.4        0.36862746 0.41568628]\n",
      " [0.40784314 0.39215687 0.39215687]\n",
      " [0.47843137 0.40784314 0.43137255]\n",
      " [0.54901963 0.4627451  0.47843137]\n",
      " [0.6117647  0.5176471  0.5176471 ]\n",
      " [0.6901961  0.5803922  0.59607846]\n",
      " [0.74509805 0.63529414 0.6431373 ]\n",
      " [0.8235294  0.69803923 0.7058824 ]\n",
      " [0.9411765  0.7921569  0.8156863 ]\n",
      " [1.0431373  0.8784314  0.87058824]\n",
      " [1.1058824  0.9490196  0.9411765 ]\n",
      " [1.2078432  1.0431373  1.0588236 ]\n",
      " [1.2784314  1.1215687  1.1137255 ]\n",
      " [1.3960785  1.2784314  1.2862746 ]\n",
      " [1.6078432  1.482353   1.4901961 ]\n",
      " [1.6784314  1.5058824  1.5215687 ]\n",
      " [1.5372549  1.372549   1.3960785 ]\n",
      " [1.3803922  1.2156863  1.2392157 ]\n",
      " [1.2627451  1.0588236  1.0588236 ]\n",
      " [1.137255   0.95686275 0.9490196 ]\n",
      " [1.0666667  0.8784314  0.89411765]\n",
      " [0.9647059  0.8        0.8235294 ]\n",
      " [0.87058824 0.72156864 0.74509805]\n",
      " [0.74509805 0.6117647  0.63529414]\n",
      " [0.627451   0.5411765  0.5568628 ]\n",
      " [0.5411765  0.4627451  0.4627451 ]\n",
      " [0.47843137 0.41568628 0.42352942]\n",
      " [0.4392157  0.39215687 0.4       ]\n",
      " [0.41568628 0.3764706  0.38431373]\n",
      " [0.36078432 0.3372549  0.3529412 ]\n",
      " [0.32156864 0.2901961  0.28235295]\n",
      " [0.30588236 0.2901961  0.2901961 ]\n",
      " [0.22745098 0.26666668 0.25882354]\n",
      " [0.22745098 0.23529412 0.26666668]\n",
      " [0.28235295 0.28235295 0.32941177]\n",
      " [0.36862746 0.41568628 0.44705883]\n",
      " [0.36862746 0.5411765  0.5176471 ]\n",
      " [0.27450982 0.38431373 0.3764706 ]\n",
      " [0.32941177 0.40784314 0.4627451 ]]\n"
     ]
    }
   ],
   "source": [
    "print(x_train[0][0])"
   ]
  },
  {
   "cell_type": "code",
   "execution_count": 17,
   "metadata": {
    "scrolled": false
   },
   "outputs": [],
   "source": [
    "vgg16_model = applications.VGG16(weights='imagenet', include_top=False, input_shape=(img_rows,img_rows,channel))"
   ]
  },
  {
   "cell_type": "code",
   "execution_count": 18,
   "metadata": {},
   "outputs": [],
   "source": [
    "vgg16_model = Model(vgg16_model.input, vgg16_model.get_layer('block5_conv2').output)"
   ]
  },
  {
   "cell_type": "code",
   "execution_count": 19,
   "metadata": {},
   "outputs": [],
   "source": [
    "x = vgg16_model.output\n",
    "x = GlobalAveragePooling2D()(x)\n",
    "x = Dense(1024, activation='relu')(x)\n",
    "x = Dropout(0.5)(x)\n",
    "predictions = Dense(num_classes, activation='softmax', name='predictions')(x)"
   ]
  },
  {
   "cell_type": "code",
   "execution_count": 20,
   "metadata": {},
   "outputs": [],
   "source": [
    "model = Model(inputs=vgg16_model.input, outputs=predictions)"
   ]
  },
  {
   "cell_type": "code",
   "execution_count": 21,
   "metadata": {},
   "outputs": [
    {
     "name": "stdout",
     "output_type": "stream",
     "text": [
      "_________________________________________________________________\n",
      "Layer (type)                 Output Shape              Param #   \n",
      "=================================================================\n",
      "input_1 (InputLayer)         (None, 64, 64, 3)         0         \n",
      "_________________________________________________________________\n",
      "block1_conv1 (Conv2D)        (None, 64, 64, 64)        1792      \n",
      "_________________________________________________________________\n",
      "block1_conv2 (Conv2D)        (None, 64, 64, 64)        36928     \n",
      "_________________________________________________________________\n",
      "block1_pool (MaxPooling2D)   (None, 32, 32, 64)        0         \n",
      "_________________________________________________________________\n",
      "block2_conv1 (Conv2D)        (None, 32, 32, 128)       73856     \n",
      "_________________________________________________________________\n",
      "block2_conv2 (Conv2D)        (None, 32, 32, 128)       147584    \n",
      "_________________________________________________________________\n",
      "block2_pool (MaxPooling2D)   (None, 16, 16, 128)       0         \n",
      "_________________________________________________________________\n",
      "block3_conv1 (Conv2D)        (None, 16, 16, 256)       295168    \n",
      "_________________________________________________________________\n",
      "block3_conv2 (Conv2D)        (None, 16, 16, 256)       590080    \n",
      "_________________________________________________________________\n",
      "block3_conv3 (Conv2D)        (None, 16, 16, 256)       590080    \n",
      "_________________________________________________________________\n",
      "block3_pool (MaxPooling2D)   (None, 8, 8, 256)         0         \n",
      "_________________________________________________________________\n",
      "block4_conv1 (Conv2D)        (None, 8, 8, 512)         1180160   \n",
      "_________________________________________________________________\n",
      "block4_conv2 (Conv2D)        (None, 8, 8, 512)         2359808   \n",
      "_________________________________________________________________\n",
      "block4_conv3 (Conv2D)        (None, 8, 8, 512)         2359808   \n",
      "_________________________________________________________________\n",
      "block4_pool (MaxPooling2D)   (None, 4, 4, 512)         0         \n",
      "_________________________________________________________________\n",
      "block5_conv1 (Conv2D)        (None, 4, 4, 512)         2359808   \n",
      "_________________________________________________________________\n",
      "block5_conv2 (Conv2D)        (None, 4, 4, 512)         2359808   \n",
      "_________________________________________________________________\n",
      "global_average_pooling2d_1 ( (None, 512)               0         \n",
      "_________________________________________________________________\n",
      "dense_1 (Dense)              (None, 1024)              525312    \n",
      "_________________________________________________________________\n",
      "dropout_1 (Dropout)          (None, 1024)              0         \n",
      "_________________________________________________________________\n",
      "predictions (Dense)          (None, 2)                 2050      \n",
      "=================================================================\n",
      "Total params: 12,882,242\n",
      "Trainable params: 12,882,242\n",
      "Non-trainable params: 0\n",
      "_________________________________________________________________\n"
     ]
    }
   ],
   "source": [
    "model.summary()"
   ]
  },
  {
   "cell_type": "code",
   "execution_count": 22,
   "metadata": {},
   "outputs": [],
   "source": [
    "adam = Adam(lr=0.0001, decay=1e-6) \n",
    "size = 32\n",
    "epoch = 5"
   ]
  },
  {
   "cell_type": "code",
   "execution_count": 23,
   "metadata": {},
   "outputs": [],
   "source": [
    "model.compile(\n",
    "    loss= 'categorical_crossentropy',\n",
    "    optimizer=adam,\n",
    "    metrics=['accuracy']\n",
    ")"
   ]
  },
  {
   "cell_type": "code",
   "execution_count": 24,
   "metadata": {
    "scrolled": false
   },
   "outputs": [
    {
     "name": "stdout",
     "output_type": "stream",
     "text": [
      "Train on 6524 samples, validate on 3617 samples\n",
      "Epoch 1/5\n",
      "6524/6524 [==============================] - 1559s 239ms/step - loss: 0.0891 - acc: 0.9700 - val_loss: 2.7778 - val_acc: 0.6967\n",
      "Epoch 2/5\n",
      "6524/6524 [==============================] - 1555s 238ms/step - loss: 0.0214 - acc: 0.9946 - val_loss: 2.4318 - val_acc: 0.6638\n",
      "Epoch 3/5\n",
      "6524/6524 [==============================] - 1586s 243ms/step - loss: 4.2069e-04 - acc: 0.9998 - val_loss: 3.2400 - val_acc: 0.6821\n",
      "Epoch 4/5\n",
      "6524/6524 [==============================] - 1550s 238ms/step - loss: 2.9289e-04 - acc: 0.9998 - val_loss: 3.1275 - val_acc: 0.6505\n",
      "Epoch 5/5\n",
      "6524/6524 [==============================] - 1871s 287ms/step - loss: 2.7010e-04 - acc: 0.9998 - val_loss: 3.3863 - val_acc: 0.6544\n"
     ]
    },
    {
     "data": {
      "text/plain": [
       "<keras.callbacks.History at 0x1c90755bf60>"
      ]
     },
     "execution_count": 24,
     "metadata": {},
     "output_type": "execute_result"
    }
   ],
   "source": [
    "model.fit(\n",
    "    x_train,\n",
    "    y_train,\n",
    "    batch_size=size,\n",
    "    epochs=epoch,\n",
    "    validation_data=(x_test, y_test),\n",
    "    shuffle=True\n",
    ")"
   ]
  },
  {
   "cell_type": "code",
   "execution_count": 25,
   "metadata": {},
   "outputs": [],
   "source": [
    "y_pred = model.predict(x_test, batch_size=10, verbose=0)"
   ]
  },
  {
   "cell_type": "code",
   "execution_count": 26,
   "metadata": {},
   "outputs": [
    {
     "name": "stdout",
     "output_type": "stream",
     "text": [
      "[[7.0745611e-01 2.9254386e-01]\n",
      " [4.3463212e-02 9.5653683e-01]\n",
      " [6.8580657e-03 9.9314195e-01]\n",
      " ...\n",
      " [9.9999762e-01 2.4261003e-06]\n",
      " [9.9999750e-01 2.4450860e-06]\n",
      " [9.9999774e-01 2.2867632e-06]]\n"
     ]
    }
   ],
   "source": [
    "print(y_pred)"
   ]
  },
  {
   "cell_type": "code",
   "execution_count": 27,
   "metadata": {},
   "outputs": [
    {
     "data": {
      "text/plain": [
       "3617"
      ]
     },
     "execution_count": 27,
     "metadata": {},
     "output_type": "execute_result"
    }
   ],
   "source": [
    "y_predict = []\n",
    "for i in range(0, len(y_pred)):\n",
    "    y_predict.append(int(np.argmax(y_pred[i])))\n",
    "len(y_predict)"
   ]
  },
  {
   "cell_type": "code",
   "execution_count": 28,
   "metadata": {},
   "outputs": [
    {
     "data": {
      "text/plain": [
       "3617"
      ]
     },
     "execution_count": 28,
     "metadata": {},
     "output_type": "execute_result"
    }
   ],
   "source": [
    "y_true = []\n",
    "for i in range(0, len(y_test)):\n",
    "    y_true.append(int(np.argmax(y_test[i])))\n",
    "len(y_true)"
   ]
  },
  {
   "cell_type": "code",
   "execution_count": 29,
   "metadata": {},
   "outputs": [],
   "source": [
    "def plot_confusion_matrix(cm, classes,\n",
    "                          title='Confusion matrix',\n",
    "                          cmap=plt.cm.Blues):\n",
    "    plt.figure(figsize=(7,7))\n",
    "    plt.imshow(cm, interpolation='nearest', cmap=cmap)\n",
    "    plt.title(title)\n",
    "    plt.colorbar()\n",
    "    tick_marks = np.arange(len(classes))\n",
    "    plt.xticks(tick_marks, classes, rotation=45)\n",
    "    plt.yticks(tick_marks, classes)\n",
    "\n",
    "    fmt = 'd'\n",
    "    thresh = cm.max() / 2.\n",
    "    for i, j in itertools.product(range(cm.shape[0]), range(cm.shape[1])):\n",
    "        plt.text(j, i, format(cm[i, j], fmt),\n",
    "                 horizontalalignment=\"center\",\n",
    "                 color=\"white\" if cm[i, j] > thresh else \"black\")\n",
    "\n",
    "    plt.ylabel('Actual label')\n",
    "    plt.xlabel('Predicted label')\n",
    "    plt.tight_layout()\n",
    "    plt.show()"
   ]
  },
  {
   "cell_type": "code",
   "execution_count": 30,
   "metadata": {},
   "outputs": [],
   "source": [
    "cm_plot_labels = class_labels"
   ]
  },
  {
   "cell_type": "code",
   "execution_count": 31,
   "metadata": {},
   "outputs": [
    {
     "name": "stdout",
     "output_type": "stream",
     "text": [
      "             precision    recall  f1-score   support\n",
      "\n",
      "          0       0.48      0.57      0.52      1187\n",
      "          1       0.77      0.70      0.73      2430\n",
      "\n",
      "avg / total       0.67      0.65      0.66      3617\n",
      "\n"
     ]
    }
   ],
   "source": [
    "print(classification_report(y_true=y_true,y_pred=y_predict))"
   ]
  },
  {
   "cell_type": "code",
   "execution_count": 32,
   "metadata": {},
   "outputs": [
    {
     "data": {
      "image/png": "[encoded data removed]",
      "text/plain": [
       "<Figure size 504x504 with 2 Axes>"
      ]
     },
     "metadata": {
      "needs_background": "light"
     },
     "output_type": "display_data"
    }
   ],
   "source": [
    "# to plot confusion matrix\n",
    "cm = confusion_matrix(y_true=y_true, y_pred=y_predict)\n",
    "plot_confusion_matrix(cm, cm_plot_labels, title='Confusion Matrix')"
   ]
  },
  {
   "cell_type": "code",
   "execution_count": 33,
   "metadata": {},
   "outputs": [
    {
     "name": "stdout",
     "output_type": "stream",
     "text": [
      "3617/3617 [==============================] - 263s 73ms/step\n",
      "Loss Value :  3.3863168589616075\n",
      "Accuracy :  0.654409731821952\n"
     ]
    }
   ],
   "source": [
    "# model performance\n",
    "score = model.evaluate(x= x_test, y= y_test, batch_size=32)\n",
    "acc = score[1]\n",
    "err = 1 - acc\n",
    "print(\"Loss Value : \", score[0])\n",
    "print(\"Accuracy : \", score[1])"
   ]
  },
  {
   "cell_type": "code",
   "execution_count": 34,
   "metadata": {},
   "outputs": [
    {
     "data": {
      "text/plain": [
       "10868"
      ]
     },
     "execution_count": 34,
     "metadata": {},
     "output_type": "execute_result"
    }
   ],
   "source": [
    "model_structure = model.to_json()\n",
    "f = Path(\"model/model_structure.json\")\n",
    "f.write_text(model_structure)"
   ]
  },
  {
   "cell_type": "code",
   "execution_count": 35,
   "metadata": {},
   "outputs": [],
   "source": [
    "model.save_weights(\"model/model_weights.h5\")"
   ]
  },
  {
   "cell_type": "code",
   "execution_count": 36,
   "metadata": {},
   "outputs": [],
   "source": [
    "def keys(f):\n",
    "    return [items for items in f.keys()]"
   ]
  },
  {
   "cell_type": "code",
   "execution_count": 37,
   "metadata": {},
   "outputs": [
    {
     "data": {
      "text/plain": [
       "['block1_conv1',\n",
       " 'block1_conv2',\n",
       " 'block1_pool',\n",
       " 'block2_conv1',\n",
       " 'block2_conv2',\n",
       " 'block2_pool',\n",
       " 'block3_conv1',\n",
       " 'block3_conv2',\n",
       " 'block3_conv3',\n",
       " 'block3_pool',\n",
       " 'block4_conv1',\n",
       " 'block4_conv2',\n",
       " 'block4_conv3',\n",
       " 'block4_pool',\n",
       " 'block5_conv1',\n",
       " 'block5_conv2',\n",
       " 'dense_1',\n",
       " 'dropout_1',\n",
       " 'global_average_pooling2d_1',\n",
       " 'input_1',\n",
       " 'predictions']"
      ]
     },
     "execution_count": 37,
     "metadata": {},
     "output_type": "execute_result"
    }
   ],
   "source": [
    "filename = \"model/model_weights.h5\"\n",
    "h5 = h5py.File(filename,'r')\n",
    "keys(h5)"
   ]
  },
  {
   "cell_type": "code",
   "execution_count": 38,
   "metadata": {},
   "outputs": [],
   "source": [
    "h5.close()"
   ]
  },
  {
   "cell_type": "code",
   "execution_count": null,
   "metadata": {},
   "outputs": [],
   "source": []
  },
  {
   "cell_type": "markdown",
   "metadata": {},
   "source": []
  },
  {
   "cell_type": "code",
   "execution_count": null,
   "metadata": {},
   "outputs": [],
   "source": []
  }
 ],
 "metadata": {
  "kernelspec": {
   "display_name": "Python 3",
   "language": "python",
   "name": "python3"
  },
  "language_info": {
   "codemirror_mode": {
    "name": "ipython",
    "version": 3
   },
   "file_extension": ".py",
   "mimetype": "text/x-python",
   "name": "python",
   "nbconvert_exporter": "python",
   "pygments_lexer": "ipython3",
   "version": "3.7.0"
  }
 },
 "nbformat": 4,
 "nbformat_minor": 2
}
